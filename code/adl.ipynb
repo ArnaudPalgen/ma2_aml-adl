{
 "cells": [
  {
   "cell_type": "markdown",
   "metadata": {},
   "source": [
    "# Introduction\n",
    "Ce notebook explore la reconaissance d'actions dans des séquences vidéos réalisée avec des CNN et RNN. Pour ce faire, trois modèles sont comparés et utilisés: TSN, TSM et C3D. Les trois modèles ont été entrainés en utilisant trois labels de la base de donnée Kinetics 400."
   ]
  },
  {
   "cell_type": "markdown",
   "metadata": {},
   "source": [
    "# 1. TSN\n",
    "todo "
   ]
  },
  {
   "cell_type": "markdown",
   "metadata": {},
   "source": [
    "# 2. TSM\n",
    "todo"
   ]
  },
  {
   "cell_type": "markdown",
   "metadata": {},
   "source": [
    "# 3. C3D (Convolution 3D)\n",
    "## Structure du modèle\n",
    "Ce modèle s'appuie sur une suite d'opérations de convolutions 3D et de pooling. Selon MACHIN, la convolution 3D modélise les signaux spatio-temporels mieux que les réseaux convolutionnels traditionnels basés sur la 2D."
   ]
  },
  {
   "cell_type": "markdown",
   "metadata": {},
   "source": [
    "# Conclusion\n",
    "todo"
   ]
  }
 ],
 "metadata": {
  "kernelspec": {
   "display_name": "Python 3",
   "language": "python",
   "name": "python3"
  },
  "language_info": {
   "codemirror_mode": {
    "name": "ipython",
    "version": 3
   },
   "file_extension": ".py",
   "mimetype": "text/x-python",
   "name": "python",
   "nbconvert_exporter": "python",
   "pygments_lexer": "ipython3",
   "version": "3.8.5"
  }
 },
 "nbformat": 4,
 "nbformat_minor": 4
}
